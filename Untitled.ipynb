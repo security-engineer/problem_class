{
 "cells": [
  {
   "cell_type": "code",
   "execution_count": 1,
   "id": "bc8355d7-bf54-4b24-b141-2885e85b707f",
   "metadata": {},
   "outputs": [
    {
     "name": "stdout",
     "output_type": "stream",
     "text": [
      "-LZHSBKBGBPUNVZKMAPDMARWYGUGJBCJOGOEINNJDGFBLEYTITZFEGWYHWSDWXE\n"
     ]
    }
   ],
   "source": [
    "#!/usr/bin/env python3\n",
    "# calc26.py\n",
    "\n",
    "import sys, os\n",
    "\n",
    "def base26_to_int(s):\n",
    "    res = 0\n",
    "    for ch in s:\n",
    "        res = res * 26 + (ord(ch) - ord('A'))\n",
    "    return res\n",
    "\n",
    "def int_to_base26(n):\n",
    "    if n == 0:\n",
    "        return 'A'\n",
    "    neg = n < 0\n",
    "    if neg: n = -n\n",
    "    digits = []\n",
    "    while n > 0:\n",
    "        digits.append(chr(ord('A') + (n % 26)))\n",
    "        n //= 26\n",
    "    s = ''.join(reversed(digits))\n",
    "    return '-' + s if neg else s\n",
    "\n",
    "def compute_base26_expression(expr):\n",
    "    parts, ops, cur = [], [], \"\"\n",
    "    for ch in expr:\n",
    "        if ch in \"+-\":\n",
    "            parts.append(cur); ops.append(ch); cur = \"\"\n",
    "        else:\n",
    "            cur += ch\n",
    "    parts.append(cur)\n",
    "    # evaluate sequentially\n",
    "    value = base26_to_int(parts[0])\n",
    "    for op, part in zip(ops, parts[1:]):\n",
    "        iv = base26_to_int(part)\n",
    "        if op == \"+\":\n",
    "            value += iv\n",
    "        else:\n",
    "            value -= iv\n",
    "    return int_to_base26(value)\n",
    "\n",
    "def main():\n",
    "    fname = \"expression.txt\"\n",
    "    if not os.path.isfile(fname):\n",
    "        print(f\"Error: '{fname}' not found in current directory.\", file=sys.stderr)\n",
    "        sys.exit(1)\n",
    "\n",
    "    with open(fname, \"r\", encoding=\"utf-8\") as f:\n",
    "        expr = f.read().strip().replace(\"\\n\",\"\")\n",
    "    if not expr:\n",
    "        print(\"Error: expression.txt is empty.\", file=sys.stderr)\n",
    "        sys.exit(1)\n",
    "\n",
    "    # compute & print\n",
    "    print(compute_base26_expression(expr))\n",
    "\n",
    "if __name__ == \"__main__\":\n",
    "    main()"
   ]
  },
  {
   "cell_type": "code",
   "execution_count": null,
   "id": "9b82ad77-ebdc-4393-859d-8f138df09785",
   "metadata": {},
   "outputs": [],
   "source": []
  }
 ],
 "metadata": {
  "kernelspec": {
   "display_name": "Python 3 (ipykernel)",
   "language": "python",
   "name": "python3"
  },
  "language_info": {
   "codemirror_mode": {
    "name": "ipython",
    "version": 3
   },
   "file_extension": ".py",
   "mimetype": "text/x-python",
   "name": "python",
   "nbconvert_exporter": "python",
   "pygments_lexer": "ipython3",
   "version": "3.10.12"
  }
 },
 "nbformat": 4,
 "nbformat_minor": 5
}
